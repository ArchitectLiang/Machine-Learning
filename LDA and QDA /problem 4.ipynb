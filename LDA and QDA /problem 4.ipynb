{
 "cells": [
  {
   "cell_type": "code",
   "execution_count": 1,
   "metadata": {},
   "outputs": [],
   "source": [
    "import numpy as np\n",
    "import matplotlib.pyplot as plt"
   ]
  },
  {
   "cell_type": "code",
   "execution_count": 2,
   "metadata": {},
   "outputs": [],
   "source": [
    "np.random.seed(1)"
   ]
  },
  {
   "cell_type": "code",
   "execution_count": 3,
   "metadata": {},
   "outputs": [
    {
     "name": "stdout",
     "output_type": "stream",
     "text": [
      "part a\n"
     ]
    },
    {
     "data": {
      "text/plain": [
       "array([3.18174856, 5.89646383])"
      ]
     },
     "execution_count": 3,
     "metadata": {},
     "output_type": "execute_result"
    }
   ],
   "source": [
    "print('part a')\n",
    "x1 = np.random.normal(loc = 3, scale = 3, size = 100)\n",
    "x3 = np.random.normal(loc = 4, scale = 2, size = 100)\n",
    "x2 = np.ones(100)\n",
    "sample = []\n",
    "for i in range(100):\n",
    "    x2[i] = 1/2*x1[i] + x3[i]\n",
    "for i in range(100):\n",
    "    sample += [[x1[i], x2[i]]]\n",
    "np.mean(sample, axis = 0)"
   ]
  },
  {
   "cell_type": "code",
   "execution_count": 4,
   "metadata": {},
   "outputs": [
    {
     "name": "stdout",
     "output_type": "stream",
     "text": [
      "part b\n"
     ]
    },
    {
     "data": {
      "text/plain": [
       "array([[7.12274112, 4.01450574],\n",
       "       [4.01450574, 5.74337335]])"
      ]
     },
     "execution_count": 4,
     "metadata": {},
     "output_type": "execute_result"
    }
   ],
   "source": [
    "print('part b')\n",
    "cov_mat = np.cov(np.array(sample).T)\n",
    "cov_mat"
   ]
  },
  {
   "cell_type": "code",
   "execution_count": 5,
   "metadata": {},
   "outputs": [
    {
     "name": "stdout",
     "output_type": "stream",
     "text": [
      "part c\n"
     ]
    },
    {
     "data": {
      "text/plain": [
       "(array([10.50637531,  2.35973915]),\n",
       " array([[ 0.7646298 , -0.64446976],\n",
       "        [ 0.64446976,  0.7646298 ]]))"
      ]
     },
     "execution_count": 5,
     "metadata": {},
     "output_type": "execute_result"
    }
   ],
   "source": [
    "print('part c')\n",
    "eigenvalues, eigenvectors = np.linalg.eig(cov_mat)\n",
    "eigenvalues, eigenvectors"
   ]
  },
  {
   "cell_type": "code",
   "execution_count": 6,
   "metadata": {},
   "outputs": [
    {
     "name": "stdout",
     "output_type": "stream",
     "text": [
      "part d\n"
     ]
    },
    {
     "data": {
      "text/plain": [
       "Text(0.5, 1.0, 'data points and covariance eigenvectors')"
      ]
     },
     "execution_count": 6,
     "metadata": {},
     "output_type": "execute_result"
    },
    {
     "data": {
      "image/png": "[encoded data removed]",
      "text/plain": [
       "<Figure size 432x288 with 1 Axes>"
      ]
     },
     "metadata": {
      "needs_background": "light"
     },
     "output_type": "display_data"
    }
   ],
   "source": [
    "print('part d')\n",
    "for i in range(100):\n",
    "    plt.scatter(sample[i][0], sample[i][1], c = 'b')\n",
    "plt.quiver([np.mean(sample, axis = 0)[0], np.mean(sample, axis = 0)[0]], [np.mean(sample, axis = 0)[1], np.mean(sample, axis = 0)[1]], [eigenvectors[0][0] * eigenvalues[0], eigenvectors[0][1] * eigenvalues[1]], [eigenvectors[1][0] * eigenvalues[0], eigenvectors[1][1] * eigenvalues[1]], angles=\"xy\", scale_units=\"xy\", scale=1)\n",
    "plt.xlim(-15, 15)\n",
    "plt.ylim(-15, 15)\n",
    "plt.xlabel('x1')\n",
    "plt.ylabel('x2')\n",
    "plt.title('data points and covariance eigenvectors')"
   ]
  },
  {
   "cell_type": "code",
   "execution_count": 7,
   "metadata": {},
   "outputs": [
    {
     "name": "stdout",
     "output_type": "stream",
     "text": [
      "part e\n"
     ]
    },
    {
     "data": {
      "text/plain": [
       "Text(0.5, 1.0, 'rotated points')"
      ]
     },
     "execution_count": 7,
     "metadata": {},
     "output_type": "execute_result"
    },
    {
     "data": {
      "image/png": "[encoded data removed]",
      "text/plain": [
       "<Figure size 432x288 with 1 Axes>"
      ]
     },
     "metadata": {
      "needs_background": "light"
     },
     "output_type": "display_data"
    }
   ],
   "source": [
    "print('part e')\n",
    "new = (eigenvectors.T @ (np.array(sample) - np.mean(sample, axis = 0)).T).T\n",
    "for i in range(100):\n",
    "    plt.scatter(new[i][0], new[i][1], c = 'b')\n",
    "plt.xlim(-15, 15)\n",
    "plt.ylim(-15, 15)\n",
    "plt.xlabel('x1')\n",
    "plt.ylabel('x2')\n",
    "plt.title('rotated points')"
   ]
  }
 ],
 "metadata": {
  "kernelspec": {
   "display_name": "Python 3",
   "language": "python",
   "name": "python3"
  },
  "language_info": {
   "codemirror_mode": {
    "name": "ipython",
    "version": 3
   },
   "file_extension": ".py",
   "mimetype": "text/x-python",
   "name": "python",
   "nbconvert_exporter": "python",
   "pygments_lexer": "ipython3",
   "version": "3.7.2"
  }
 },
 "nbformat": 4,
 "nbformat_minor": 4
}
