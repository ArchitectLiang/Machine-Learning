{
 "cells": [
  {
   "cell_type": "code",
   "execution_count": 446,
   "metadata": {},
   "outputs": [],
   "source": [
    "import numpy as np\n",
    "import scipy.io\n",
    "import scipy\n",
    "import scipy.special\n",
    "import matplotlib.pyplot as plt"
   ]
  },
  {
   "cell_type": "code",
   "execution_count": 447,
   "metadata": {},
   "outputs": [],
   "source": [
    "np.random.seed(8)"
   ]
  },
  {
   "cell_type": "code",
   "execution_count": 448,
   "metadata": {},
   "outputs": [],
   "source": [
    "data = scipy.io.loadmat(\"data/data.mat\")"
   ]
  },
  {
   "cell_type": "code",
   "execution_count": 449,
   "metadata": {},
   "outputs": [],
   "source": [
    "train = data['X']\n",
    "label = data['y']\n",
    "test = data['X_test']"
   ]
  },
  {
   "cell_type": "code",
   "execution_count": 450,
   "metadata": {},
   "outputs": [],
   "source": [
    "from sklearn import model_selection"
   ]
  },
  {
   "cell_type": "code",
   "execution_count": 451,
   "metadata": {},
   "outputs": [],
   "source": [
    "X_train, X_valid, y_train, y_valid = model_selection.train_test_split(train, label, test_size = 0.2)"
   ]
  },
  {
   "cell_type": "code",
   "execution_count": 452,
   "metadata": {},
   "outputs": [],
   "source": [
    "from sklearn.preprocessing import StandardScaler"
   ]
  },
  {
   "cell_type": "code",
   "execution_count": 453,
   "metadata": {},
   "outputs": [],
   "source": [
    "scaler = StandardScaler()\n",
    "X_train_scaled = scaler.fit_transform(X_train)"
   ]
  },
  {
   "cell_type": "code",
   "execution_count": 454,
   "metadata": {},
   "outputs": [],
   "source": [
    "X_valid_scaled = scaler.transform(X_valid)"
   ]
  },
  {
   "cell_type": "code",
   "execution_count": 455,
   "metadata": {},
   "outputs": [],
   "source": [
    "test_scaled = scaler.transform(test)"
   ]
  },
  {
   "cell_type": "code",
   "execution_count": 456,
   "metadata": {},
   "outputs": [],
   "source": [
    "X_train_final = np.concatenate((X_train_scaled, np.ones((X_train_scaled.shape[0], 1))), axis = 1)"
   ]
  },
  {
   "cell_type": "code",
   "execution_count": 457,
   "metadata": {},
   "outputs": [],
   "source": [
    "X_valid_final = np.concatenate((X_valid_scaled, np.ones((X_valid_scaled.shape[0], 1))), axis = 1)"
   ]
  },
  {
   "cell_type": "code",
   "execution_count": 458,
   "metadata": {},
   "outputs": [],
   "source": [
    "test_final = np.concatenate((test_scaled, np.ones((test_scaled.shape[0], 1))), axis = 1)"
   ]
  },
  {
   "cell_type": "code",
   "execution_count": 459,
   "metadata": {},
   "outputs": [],
   "source": [
    "def cost(X, w, y, reg):\n",
    "    return -np.sum(y * np.log(scipy.special.expit(X @ w) + 1e-16) + (1 - y) * np.log(1 - scipy.special.expit(X @ w) + 1e-16)) + reg * (np.linalg.norm(w) ** 2)"
   ]
  },
  {
   "cell_type": "code",
   "execution_count": 489,
   "metadata": {},
   "outputs": [],
   "source": [
    "reg = 0.1\n",
    "alpha = 0.005\n",
    "w = np.zeros((13, 1))"
   ]
  },
  {
   "cell_type": "code",
   "execution_count": 490,
   "metadata": {},
   "outputs": [],
   "source": [
    "costs = []\n",
    "for i in range(200):\n",
    "    costs.append(cost(X_train_final, w, y_train, reg))\n",
    "    w = w - alpha * (reg * w - X_train_final.T @ (y_train - scipy.special.expit(X_train_final @ w)))"
   ]
  },
  {
   "cell_type": "code",
   "execution_count": 491,
   "metadata": {},
   "outputs": [
    {
     "name": "stdout",
     "output_type": "stream",
     "text": [
      "part 2\n"
     ]
    },
    {
     "data": {
      "text/plain": [
       "Text(0, 0.5, 'training cost')"
      ]
     },
     "execution_count": 491,
     "metadata": {},
     "output_type": "execute_result"
    },
    {
     "data": {
      "image/png": "[encoded data removed]",
      "text/plain": [
       "<Figure size 432x288 with 1 Axes>"
      ]
     },
     "metadata": {
      "needs_background": "light"
     },
     "output_type": "display_data"
    }
   ],
   "source": [
    "print('part 2')\n",
    "plt.plot(np.arange(200), costs)\n",
    "plt.title('value of the cost function versus the number of iterations spent in training (gd)')\n",
    "plt.xlabel('number of iterations')\n",
    "plt.ylabel('training cost')"
   ]
  },
  {
   "cell_type": "code",
   "execution_count": 492,
   "metadata": {},
   "outputs": [],
   "source": [
    "def accuracy(X, y, w):\n",
    "    c = 0\n",
    "    s = scipy.special.expit(X @ w)\n",
    "    for i in range(len(y)):\n",
    "        if s[i][0] >= 0.5:\n",
    "            if y[i][0] == 1:\n",
    "                c += 1\n",
    "        else:\n",
    "            if y[i][0] == 0:\n",
    "                c += 1\n",
    "    return c / len(y)"
   ]
  },
  {
   "cell_type": "code",
   "execution_count": 493,
   "metadata": {},
   "outputs": [
    {
     "data": {
      "text/plain": [
       "0.9945833333333334"
      ]
     },
     "execution_count": 493,
     "metadata": {},
     "output_type": "execute_result"
    }
   ],
   "source": [
    "accuracy(X_train_final, y_train, w)"
   ]
  },
  {
   "cell_type": "code",
   "execution_count": 494,
   "metadata": {},
   "outputs": [
    {
     "data": {
      "text/plain": [
       "0.995"
      ]
     },
     "execution_count": 494,
     "metadata": {},
     "output_type": "execute_result"
    }
   ],
   "source": [
    "accuracy(X_valid_final, y_valid, w)"
   ]
  },
  {
   "cell_type": "code",
   "execution_count": 466,
   "metadata": {},
   "outputs": [],
   "source": [
    "reg = 0.01\n",
    "alpha = 0.001\n",
    "w = np.random.random_sample((13, 1))"
   ]
  },
  {
   "cell_type": "code",
   "execution_count": 467,
   "metadata": {},
   "outputs": [],
   "source": [
    "costs = []\n",
    "idx = np.arange(X_train_final.shape[0])\n",
    "np.random.shuffle(idx)\n",
    "for k in range(4):\n",
    "    for i in range(len(idx)):\n",
    "        costs.append(cost(X_train_final, w, y_train, reg))\n",
    "        w = w - alpha * (reg * w - (y_train[idx[i]] - scipy.special.expit(X_train_final[idx[i]].reshape(1, 13) @ w)) * X_train_final[idx[i]].reshape(13, 1))\n",
    "    idx = np.arange(X_train_final.shape[0])\n",
    "    np.random.shuffle(idx)"
   ]
  },
  {
   "cell_type": "code",
   "execution_count": 468,
   "metadata": {},
   "outputs": [
    {
     "name": "stdout",
     "output_type": "stream",
     "text": [
      "part 4\n"
     ]
    },
    {
     "data": {
      "text/plain": [
       "Text(0, 0.5, 'training cost')"
      ]
     },
     "execution_count": 468,
     "metadata": {},
     "output_type": "execute_result"
    },
    {
     "data": {
      "image/png": "[encoded data removed]",
      "text/plain": [
       "<Figure size 432x288 with 1 Axes>"
      ]
     },
     "metadata": {
      "needs_background": "light"
     },
     "output_type": "display_data"
    }
   ],
   "source": [
    "print('part 4')\n",
    "plt.plot(np.arange(4 * len(idx)), costs)\n",
    "plt.title('value of the cost function versus the number of iterations spent in training (sgd)')\n",
    "plt.xlabel('number of iterations')\n",
    "plt.ylabel('training cost')"
   ]
  },
  {
   "cell_type": "code",
   "execution_count": 469,
   "metadata": {},
   "outputs": [
    {
     "data": {
      "text/plain": [
       "0.9854166666666667"
      ]
     },
     "execution_count": 469,
     "metadata": {},
     "output_type": "execute_result"
    }
   ],
   "source": [
    "accuracy(X_train_final, y_train, w)"
   ]
  },
  {
   "cell_type": "code",
   "execution_count": 470,
   "metadata": {},
   "outputs": [
    {
     "data": {
      "text/plain": [
       "0.9816666666666667"
      ]
     },
     "execution_count": 470,
     "metadata": {},
     "output_type": "execute_result"
    }
   ],
   "source": [
    "accuracy(X_valid_final, y_valid, w)"
   ]
  },
  {
   "cell_type": "markdown",
   "metadata": {},
   "source": [
    "Batch Gradient Descent converges more quickly and obtains a lower value of the cost function."
   ]
  },
  {
   "cell_type": "code",
   "execution_count": 479,
   "metadata": {},
   "outputs": [],
   "source": [
    "reg = 0.01\n",
    "init_alpha = 1\n",
    "w = np.random.random_sample((13, 1))"
   ]
  },
  {
   "cell_type": "code",
   "execution_count": 480,
   "metadata": {},
   "outputs": [],
   "source": [
    "costs = []\n",
    "idx = np.arange(X_train_final.shape[0])\n",
    "np.random.shuffle(idx)\n",
    "for k in range(4):\n",
    "    for i in range(len(idx)):\n",
    "        alpha = init_alpha/(len(idx)*k + i + 1)\n",
    "        costs.append(cost(X_train_final, w, y_train, reg))\n",
    "        w = w - alpha * (reg * w - (y_train[idx[i]] - scipy.special.expit(X_train_final[idx[i]].reshape(1, 13) @ w)) * X_train_final[idx[i]].reshape(13, 1))\n",
    " \n",
    "    idx = np.arange(X_train_final.shape[0])\n",
    "    np.random.shuffle(idx)"
   ]
  },
  {
   "cell_type": "code",
   "execution_count": 481,
   "metadata": {},
   "outputs": [
    {
     "name": "stdout",
     "output_type": "stream",
     "text": [
      "part 5\n"
     ]
    },
    {
     "data": {
      "text/plain": [
       "Text(0, 0.5, 'training cost')"
      ]
     },
     "execution_count": 481,
     "metadata": {},
     "output_type": "execute_result"
    },
    {
     "data": {
      "image/png": "[encoded data removed]",
      "text/plain": [
       "<Figure size 432x288 with 1 Axes>"
      ]
     },
     "metadata": {
      "needs_background": "light"
     },
     "output_type": "display_data"
    }
   ],
   "source": [
    "print('part 5')\n",
    "plt.plot(np.arange(4 * len(idx)), costs)\n",
    "plt.title('value of the cost function versus the number of iterations spent in training (sgd shrink step size)')\n",
    "plt.xlabel('number of iterations')\n",
    "plt.ylabel('training cost')"
   ]
  },
  {
   "cell_type": "code",
   "execution_count": 482,
   "metadata": {},
   "outputs": [
    {
     "data": {
      "text/plain": [
       "0.9397916666666667"
      ]
     },
     "execution_count": 482,
     "metadata": {},
     "output_type": "execute_result"
    }
   ],
   "source": [
    "accuracy(X_train_final, y_train, w)"
   ]
  },
  {
   "cell_type": "code",
   "execution_count": 483,
   "metadata": {},
   "outputs": [
    {
     "data": {
      "text/plain": [
       "0.9308333333333333"
      ]
     },
     "execution_count": 483,
     "metadata": {},
     "output_type": "execute_result"
    }
   ],
   "source": [
    "accuracy(X_valid_final, y_valid, w)"
   ]
  },
  {
   "cell_type": "markdown",
   "metadata": {},
   "source": [
    "The convergence is much faster than that of my previous SGD code."
   ]
  },
  {
   "cell_type": "code",
   "execution_count": 495,
   "metadata": {},
   "outputs": [],
   "source": [
    "reg = 0.1\n",
    "alpha = 0.005\n",
    "w = np.zeros((13, 1))"
   ]
  },
  {
   "cell_type": "code",
   "execution_count": 496,
   "metadata": {},
   "outputs": [],
   "source": [
    "for i in range(200):\n",
    "    w = w - alpha * (reg * w - X_train_final.T @ (y_train - scipy.special.expit(X_train_final @ w)))"
   ]
  },
  {
   "cell_type": "code",
   "execution_count": 497,
   "metadata": {},
   "outputs": [],
   "source": [
    "s = scipy.special.expit(test_final @ w)\n",
    "pred = []\n",
    "for i in range(len(test_final)):\n",
    "        if s[i][0] >= 0.5:\n",
    "            pred += [1]\n",
    "        else:\n",
    "            pred += [0]"
   ]
  },
  {
   "cell_type": "code",
   "execution_count": 498,
   "metadata": {},
   "outputs": [],
   "source": [
    "import pandas as pd"
   ]
  },
  {
   "cell_type": "code",
   "execution_count": 499,
   "metadata": {},
   "outputs": [],
   "source": [
    "def results_to_csv(y_test):\n",
    "    y_test = y_test.astype(int)\n",
    "    df = pd.DataFrame({'Category': y_test})\n",
    "    df.index += 1  # Ensures that the index starts at 1. \n",
    "    df.to_csv('submission.csv', index_label='Id')"
   ]
  },
  {
   "cell_type": "code",
   "execution_count": 501,
   "metadata": {},
   "outputs": [],
   "source": [
    "results_to_csv(np.array(pred))"
   ]
  },
  {
   "cell_type": "markdown",
   "metadata": {},
   "source": [
    "Kaggle Username: Yao Liang, Score: 0.99496. I used Batch Gradient Descent with 200 iterations with carefully chosed hyperparameters."
   ]
  }
 ],
 "metadata": {
  "kernelspec": {
   "display_name": "Python 3",
   "language": "python",
   "name": "python3"
  },
  "language_info": {
   "codemirror_mode": {
    "name": "ipython",
    "version": 3
   },
   "file_extension": ".py",
   "mimetype": "text/x-python",
   "name": "python",
   "nbconvert_exporter": "python",
   "pygments_lexer": "ipython3",
   "version": "3.7.2"
  }
 },
 "nbformat": 4,
 "nbformat_minor": 4
}
